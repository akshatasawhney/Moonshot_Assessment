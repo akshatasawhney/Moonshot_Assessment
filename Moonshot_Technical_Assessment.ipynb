{
 "cells": [
  {
   "cell_type": "code",
   "execution_count": 13,
   "metadata": {},
   "outputs": [
    {
     "name": "stdout",
     "output_type": "stream",
     "text": [
      "Requirement already satisfied: pandas in c:\\python\\python311\\lib\\site-packages (2.2.2)\n",
      "Requirement already satisfied: numpy>=1.23.2 in c:\\python\\python311\\lib\\site-packages (from pandas) (2.0.0)\n",
      "Requirement already satisfied: python-dateutil>=2.8.2 in c:\\users\\aksha\\appdata\\roaming\\python\\python311\\site-packages (from pandas) (2.9.0.post0)\n",
      "Requirement already satisfied: pytz>=2020.1 in c:\\python\\python311\\lib\\site-packages (from pandas) (2024.1)\n",
      "Requirement already satisfied: tzdata>=2022.7 in c:\\python\\python311\\lib\\site-packages (from pandas) (2024.1)\n",
      "Requirement already satisfied: six>=1.5 in c:\\users\\aksha\\appdata\\roaming\\python\\python311\\site-packages (from python-dateutil>=2.8.2->pandas) (1.16.0)\n"
     ]
    },
    {
     "name": "stderr",
     "output_type": "stream",
     "text": [
      "\n",
      "[notice] A new release of pip is available: 24.0 -> 24.1\n",
      "[notice] To update, run: python.exe -m pip install --upgrade pip\n"
     ]
    },
    {
     "name": "stdout",
     "output_type": "stream",
     "text": [
      "Requirement already satisfied: db-sqlite3 in c:\\python\\python311\\lib\\site-packages (0.0.1)\n",
      "Requirement already satisfied: db in c:\\python\\python311\\lib\\site-packages (from db-sqlite3) (0.1.1)\n",
      "Requirement already satisfied: antiorm in c:\\python\\python311\\lib\\site-packages (from db->db-sqlite3) (1.2.1)\n"
     ]
    },
    {
     "name": "stderr",
     "output_type": "stream",
     "text": [
      "\n",
      "[notice] A new release of pip is available: 24.0 -> 24.1\n",
      "[notice] To update, run: python.exe -m pip install --upgrade pip\n"
     ]
    }
   ],
   "source": [
    "#installs\n",
    "!pip install pandas\n",
    "!pip install db-sqlite3"
   ]
  },
  {
   "cell_type": "code",
   "execution_count": 1,
   "metadata": {},
   "outputs": [],
   "source": [
    "#imports\n",
    "import pandas as pd\n",
    "import re\n",
    "from collections import defaultdict\n",
    "import json\n",
    "import sqlite3\n",
    "import os\n",
    "import shutil"
   ]
  },
  {
   "cell_type": "code",
   "execution_count": 2,
   "metadata": {},
   "outputs": [],
   "source": [
    "# Set of predefined common words to be ignored. The list can be modified as required. For the purpose of this program, these stopwords are as provided by the NLTK library\n",
    "\n",
    "stop_words={'i', 'me', 'my', 'myself', 'we', 'our', 'ours', 'ourselves', 'you', \"you're\", \"you've\", \"you'll\", \"you'd\", 'your', 'yours', 'yourself', 'yourselves', 'he', 'him', 'his', 'himself', 'she', \"she's\", 'her', 'hers', 'herself', 'it', \"it's\", 'its', 'itself', 'they', 'them', 'their', 'theirs', 'themselves', 'what', 'which', 'who', 'whom', 'this', 'that', \"that'll\", 'these', 'those', 'am', 'is', 'are', 'was', 'were', 'be', 'been', 'being', 'have', 'has', 'had', 'having', 'do', 'does', 'did', 'doing', 'a', 'an', 'the', 'and', 'but', 'if', 'or', 'because', 'as', 'until', 'while', 'of', 'at', 'by', 'for', 'with', 'about', 'against', 'between', 'into', 'through', 'during', 'before', 'after', 'above', 'below', 'to', 'from', 'up', 'down', 'in', 'out', 'on', 'off', 'over', 'under', 'again', 'further', 'then', 'once', 'here', 'there', 'when', 'where', 'why', 'how', 'all', 'any', 'both', 'each', 'few', 'more', 'most', 'other', 'some', 'such', 'no', 'nor', 'not', 'only', 'own', 'same', 'so', 'than', 'too', 'very', 's', 't', 'can', 'will', 'just', 'don', \"don't\", 'should', \"should've\", 'now', 'd', 'll', 'm', 'o', 're', 've', 'y', 'ain', 'aren', \"aren't\", 'couldn', \"couldn't\", 'didn', \"didn't\", 'doesn', \"doesn't\", 'hadn', \"hadn't\", 'hasn', \"hasn't\", 'haven', \"haven't\", 'isn', \"isn't\", 'ma', 'mightn', \"mightn't\", 'mustn', \"mustn't\", 'needn', \"needn't\", 'shan', \"shan't\", 'shouldn', \"shouldn't\", 'wasn', \"wasn't\", 'weren', \"weren't\", 'won', \"won't\", 'wouldn', \"wouldn't\"}"
   ]
  },
  {
   "cell_type": "code",
   "execution_count": 23,
   "metadata": {},
   "outputs": [],
   "source": [
    "file_name='input.csv' # file_name to be processed, should be present in the \"input\" directory\n",
    "source_path = 'input/'+file_name\n",
    "input_df = pd.read_csv(source_path) # reading the CSV file into pandas dataframe"
   ]
  },
  {
   "cell_type": "code",
   "execution_count": 17,
   "metadata": {},
   "outputs": [
    {
     "data": {
      "text/html": [
       "<div>\n",
       "<style scoped>\n",
       "    .dataframe tbody tr th:only-of-type {\n",
       "        vertical-align: middle;\n",
       "    }\n",
       "\n",
       "    .dataframe tbody tr th {\n",
       "        vertical-align: top;\n",
       "    }\n",
       "\n",
       "    .dataframe thead th {\n",
       "        text-align: right;\n",
       "    }\n",
       "</style>\n",
       "<table border=\"1\" class=\"dataframe\">\n",
       "  <thead>\n",
       "    <tr style=\"text-align: right;\">\n",
       "      <th></th>\n",
       "      <th>id</th>\n",
       "      <th>source</th>\n",
       "      <th>original_text</th>\n",
       "    </tr>\n",
       "  </thead>\n",
       "  <tbody>\n",
       "    <tr>\n",
       "      <th>0</th>\n",
       "      <td>1001234</td>\n",
       "      <td>OnlineSource1</td>\n",
       "      <td>It is not the critic who counts; not the one w...</td>\n",
       "    </tr>\n",
       "    <tr>\n",
       "      <th>1</th>\n",
       "      <td>1001235</td>\n",
       "      <td>OnlineSource2</td>\n",
       "      <td>A scrupulous writer, in every sentence that he...</td>\n",
       "    </tr>\n",
       "    <tr>\n",
       "      <th>2</th>\n",
       "      <td>1001236</td>\n",
       "      <td>OnlineSource2</td>\n",
       "      <td>The happiness of your life depends upon the qu...</td>\n",
       "    </tr>\n",
       "  </tbody>\n",
       "</table>\n",
       "</div>"
      ],
      "text/plain": [
       "        id         source                                      original_text\n",
       "0  1001234  OnlineSource1  It is not the critic who counts; not the one w...\n",
       "1  1001235  OnlineSource2  A scrupulous writer, in every sentence that he...\n",
       "2  1001236  OnlineSource2  The happiness of your life depends upon the qu..."
      ]
     },
     "metadata": {},
     "output_type": "display_data"
    }
   ],
   "source": [
    "display(input_df)"
   ]
  },
  {
   "cell_type": "code",
   "execution_count": 5,
   "metadata": {},
   "outputs": [],
   "source": [
    "input_df[\"word_frequency\"]='' # creating an empty column in the dataframe to hold word frequency"
   ]
  },
  {
   "cell_type": "code",
   "execution_count": 7,
   "metadata": {},
   "outputs": [
    {
     "data": {
      "text/html": [
       "<div>\n",
       "<style scoped>\n",
       "    .dataframe tbody tr th:only-of-type {\n",
       "        vertical-align: middle;\n",
       "    }\n",
       "\n",
       "    .dataframe tbody tr th {\n",
       "        vertical-align: top;\n",
       "    }\n",
       "\n",
       "    .dataframe thead th {\n",
       "        text-align: right;\n",
       "    }\n",
       "</style>\n",
       "<table border=\"1\" class=\"dataframe\">\n",
       "  <thead>\n",
       "    <tr style=\"text-align: right;\">\n",
       "      <th></th>\n",
       "      <th>id</th>\n",
       "      <th>source</th>\n",
       "      <th>original_text</th>\n",
       "      <th>word_frequency</th>\n",
       "    </tr>\n",
       "  </thead>\n",
       "  <tbody>\n",
       "    <tr>\n",
       "      <th>0</th>\n",
       "      <td>1001234</td>\n",
       "      <td>OnlineSource1</td>\n",
       "      <td>It is not the critic who counts; not the one w...</td>\n",
       "      <td></td>\n",
       "    </tr>\n",
       "    <tr>\n",
       "      <th>1</th>\n",
       "      <td>1001235</td>\n",
       "      <td>OnlineSource2</td>\n",
       "      <td>A scrupulous writer, in every sentence that he...</td>\n",
       "      <td></td>\n",
       "    </tr>\n",
       "    <tr>\n",
       "      <th>2</th>\n",
       "      <td>1001236</td>\n",
       "      <td>OnlineSource2</td>\n",
       "      <td>The happiness of your life depends upon the qu...</td>\n",
       "      <td></td>\n",
       "    </tr>\n",
       "  </tbody>\n",
       "</table>\n",
       "</div>"
      ],
      "text/plain": [
       "        id         source                                      original_text  \\\n",
       "0  1001234  OnlineSource1  It is not the critic who counts; not the one w...   \n",
       "1  1001235  OnlineSource2  A scrupulous writer, in every sentence that he...   \n",
       "2  1001236  OnlineSource2  The happiness of your life depends upon the qu...   \n",
       "\n",
       "  word_frequency  \n",
       "0                 \n",
       "1                 \n",
       "2                 "
      ]
     },
     "metadata": {},
     "output_type": "display_data"
    }
   ],
   "source": [
    "display(input_df)"
   ]
  },
  {
   "cell_type": "code",
   "execution_count": 6,
   "metadata": {},
   "outputs": [],
   "source": [
    "pattern = r\"[-+]?\\d*\\.\\d+|\\d+|[^\\w\\s]\" # regex to match unwanted characters - integers, floating values, punctuations and emojis"
   ]
  },
  {
   "cell_type": "code",
   "execution_count": 8,
   "metadata": {},
   "outputs": [],
   "source": [
    "# this piece of code will loop over all the rows in the dataframe and get the word frequency\n",
    "for ind in input_df.index:\n",
    "    \n",
    "    text=input_df['original_text'][ind]\n",
    "    text = re.sub(pattern, '', text).strip() # removing unwanted characters as defined by earlier regex\n",
    "    \n",
    "    word_freq_dict = defaultdict(int) # dictionary to hold word frequency per row\n",
    "\n",
    "    for word in text.casefold().split():\n",
    "        \n",
    "        if word not in stop_words and word != '': # condition to ignore the stopwords and empty strings\n",
    "            word_freq_dict[word] += 1\n",
    "            \n",
    "    serialised = json.dumps(word_freq_dict) # converting ditionary to a JSON object to be further stored in Database\n",
    "    input_df.loc[ind,'word_frequency']= serialised # Updating the word_frequency column in dataframe"
   ]
  },
  {
   "cell_type": "code",
   "execution_count": 9,
   "metadata": {},
   "outputs": [
    {
     "data": {
      "text/html": [
       "<div>\n",
       "<style scoped>\n",
       "    .dataframe tbody tr th:only-of-type {\n",
       "        vertical-align: middle;\n",
       "    }\n",
       "\n",
       "    .dataframe tbody tr th {\n",
       "        vertical-align: top;\n",
       "    }\n",
       "\n",
       "    .dataframe thead th {\n",
       "        text-align: right;\n",
       "    }\n",
       "</style>\n",
       "<table border=\"1\" class=\"dataframe\">\n",
       "  <thead>\n",
       "    <tr style=\"text-align: right;\">\n",
       "      <th></th>\n",
       "      <th>id</th>\n",
       "      <th>source</th>\n",
       "      <th>original_text</th>\n",
       "      <th>word_frequency</th>\n",
       "    </tr>\n",
       "  </thead>\n",
       "  <tbody>\n",
       "    <tr>\n",
       "      <th>0</th>\n",
       "      <td>1001234</td>\n",
       "      <td>OnlineSource1</td>\n",
       "      <td>It is not the critic who counts; not the one w...</td>\n",
       "      <td>{\"critic\": 1, \"counts\": 1, \"one\": 2, \"points\":...</td>\n",
       "    </tr>\n",
       "    <tr>\n",
       "      <th>1</th>\n",
       "      <td>1001235</td>\n",
       "      <td>OnlineSource2</td>\n",
       "      <td>A scrupulous writer, in every sentence that he...</td>\n",
       "      <td>{\"scrupulous\": 1, \"writer\": 1, \"every\": 1, \"se...</td>\n",
       "    </tr>\n",
       "    <tr>\n",
       "      <th>2</th>\n",
       "      <td>1001236</td>\n",
       "      <td>OnlineSource2</td>\n",
       "      <td>The happiness of your life depends upon the qu...</td>\n",
       "      <td>{\"happiness\": 1, \"life\": 3, \"depends\": 1, \"upo...</td>\n",
       "    </tr>\n",
       "  </tbody>\n",
       "</table>\n",
       "</div>"
      ],
      "text/plain": [
       "        id         source                                      original_text  \\\n",
       "0  1001234  OnlineSource1  It is not the critic who counts; not the one w...   \n",
       "1  1001235  OnlineSource2  A scrupulous writer, in every sentence that he...   \n",
       "2  1001236  OnlineSource2  The happiness of your life depends upon the qu...   \n",
       "\n",
       "                                      word_frequency  \n",
       "0  {\"critic\": 1, \"counts\": 1, \"one\": 2, \"points\":...  \n",
       "1  {\"scrupulous\": 1, \"writer\": 1, \"every\": 1, \"se...  \n",
       "2  {\"happiness\": 1, \"life\": 3, \"depends\": 1, \"upo...  "
      ]
     },
     "metadata": {},
     "output_type": "display_data"
    }
   ],
   "source": [
    "display(input_df)"
   ]
  },
  {
   "cell_type": "code",
   "execution_count": 10,
   "metadata": {},
   "outputs": [],
   "source": [
    "input_df.to_csv('output.csv', index=False) # saving resultant dataframe as CSV"
   ]
  },
  {
   "cell_type": "code",
   "execution_count": 11,
   "metadata": {},
   "outputs": [],
   "source": [
    "# Database - SQLite for disk-based database solution\n",
    "conn = sqlite3.connect('Word_Frequency.db')\n",
    "\n",
    "input_df.to_sql('Word_Frequency', conn, if_exists='replace', index=False) # converted the dataframe to SQLite DB table\n",
    "cur = conn.cursor()"
   ]
  },
  {
   "cell_type": "code",
   "execution_count": 12,
   "metadata": {},
   "outputs": [],
   "source": [
    "# SQL query to retrieve data from the database \n",
    "cur.execute(\"SELECT * FROM Word_Frequency\") \n",
    "\n",
    "result = cur.fetchall() # the method fetches all rows of a query result set and returns a list of tuples"
   ]
  },
  {
   "cell_type": "code",
   "execution_count": 13,
   "metadata": {},
   "outputs": [
    {
     "name": "stdout",
     "output_type": "stream",
     "text": [
      "(1001234, 'OnlineSource1', 'It is not the critic who counts; not the one who points out how the strong person stumbles, or where the doer of deeds could have done them better. The credit belongs to the one who is actually in the arena, whose face is marred by dust and sweat and blood; who strives valiantly; who errs, who comes short again and again, because there is no effort without error and shortcoming; but who does actually strive to do the deeds; who knows great enthusiasms, the great devotions; who spends their self in a worthy cause; who at the best knows in the end the triumph of high achievement, and who at the worst, if they fail, at least fail while daring greatly, so that their place shall never be with those cold and timid souls who neither know victory nor defeat', '{\"critic\": 1, \"counts\": 1, \"one\": 2, \"points\": 1, \"strong\": 1, \"person\": 1, \"stumbles\": 1, \"doer\": 1, \"deeds\": 2, \"could\": 1, \"done\": 1, \"better\": 1, \"credit\": 1, \"belongs\": 1, \"actually\": 2, \"arena\": 1, \"whose\": 1, \"face\": 1, \"marred\": 1, \"dust\": 1, \"sweat\": 1, \"blood\": 1, \"strives\": 1, \"valiantly\": 1, \"errs\": 1, \"comes\": 1, \"short\": 1, \"effort\": 1, \"without\": 1, \"error\": 1, \"shortcoming\": 1, \"strive\": 1, \"knows\": 2, \"great\": 2, \"enthusiasms\": 1, \"devotions\": 1, \"spends\": 1, \"self\": 1, \"worthy\": 1, \"cause\": 1, \"best\": 1, \"end\": 1, \"triumph\": 1, \"high\": 1, \"achievement\": 1, \"worst\": 1, \"fail\": 2, \"least\": 1, \"daring\": 1, \"greatly\": 1, \"place\": 1, \"shall\": 1, \"never\": 1, \"cold\": 1, \"timid\": 1, \"souls\": 1, \"neither\": 1, \"know\": 1, \"victory\": 1, \"defeat\": 1}')\n",
      "\n",
      "\n",
      "(1001235, 'OnlineSource2', 'A scrupulous writer, in every sentence that he writes, will ask himself at least four questions, thus: 1. What am I trying to say? 2. What words will express it? 3. What image or idiom will make it clearer? 4. Is this image fresh enough to have an effect???', '{\"scrupulous\": 1, \"writer\": 1, \"every\": 1, \"sentence\": 1, \"writes\": 1, \"ask\": 1, \"least\": 1, \"four\": 1, \"questions\": 1, \"thus\": 1, \"trying\": 1, \"say\": 1, \"words\": 1, \"express\": 1, \"image\": 2, \"idiom\": 1, \"make\": 1, \"clearer\": 1, \"fresh\": 1, \"enough\": 1, \"effect\": 1}')\n",
      "\n",
      "\n",
      "(1001236, 'OnlineSource2', 'The happiness of your life depends upon the quality of your thoughts, therefore guard accordingly; and take care that you entertain no notions unsuitable to virtue, and reasonable nature.  Remember this-that there is a proper dignity and proportion to be observed in the performance of every act of life.  You will find rest from vain fancies if you perform every act in life as though it were your last.', '{\"happiness\": 1, \"life\": 3, \"depends\": 1, \"upon\": 1, \"quality\": 1, \"thoughts\": 1, \"therefore\": 1, \"guard\": 1, \"accordingly\": 1, \"take\": 1, \"care\": 1, \"entertain\": 1, \"notions\": 1, \"unsuitable\": 1, \"virtue\": 1, \"reasonable\": 1, \"nature\": 1, \"remember\": 1, \"thisthat\": 1, \"proper\": 1, \"dignity\": 1, \"proportion\": 1, \"observed\": 1, \"performance\": 1, \"every\": 2, \"act\": 2, \"find\": 1, \"rest\": 1, \"vain\": 1, \"fancies\": 1, \"perform\": 1, \"though\": 1, \"last\": 1}')\n",
      "\n",
      "\n"
     ]
    }
   ],
   "source": [
    "# displaying rows returned\n",
    "for row in result: \n",
    "    print(row) \n",
    "    print(\"\\n\")"
   ]
  },
  {
   "cell_type": "code",
   "execution_count": 14,
   "metadata": {},
   "outputs": [],
   "source": [
    "os.mkdir('processed') # creating a new directory to move the processed file to"
   ]
  },
  {
   "cell_type": "code",
   "execution_count": 26,
   "metadata": {},
   "outputs": [
    {
     "data": {
      "text/plain": [
       "'processed/input.csv'"
      ]
     },
     "execution_count": 26,
     "metadata": {},
     "output_type": "execute_result"
    }
   ],
   "source": [
    "destination_path = 'processed/'+file_name\n",
    "shutil.move(source_path, destination_path)"
   ]
  }
 ],
 "metadata": {
  "kernelspec": {
   "display_name": "Python 3",
   "language": "python",
   "name": "python3"
  },
  "language_info": {
   "codemirror_mode": {
    "name": "ipython",
    "version": 3
   },
   "file_extension": ".py",
   "mimetype": "text/x-python",
   "name": "python",
   "nbconvert_exporter": "python",
   "pygments_lexer": "ipython3",
   "version": "3.11.8"
  }
 },
 "nbformat": 4,
 "nbformat_minor": 2
}
